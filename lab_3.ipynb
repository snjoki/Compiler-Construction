{
  "nbformat": 4,
  "nbformat_minor": 0,
  "metadata": {
    "colab": {
      "provenance": [],
      "authorship_tag": "ABX9TyOztmYi8m/8W71PbkhiojjE",
      "include_colab_link": true
    },
    "kernelspec": {
      "name": "python3",
      "display_name": "Python 3"
    },
    "language_info": {
      "name": "python"
    }
  },
  "cells": [
    {
      "cell_type": "markdown",
      "metadata": {
        "id": "view-in-github",
        "colab_type": "text"
      },
      "source": [
        "<a href=\"https://colab.research.google.com/github/snjoki/Compiler-Construction/blob/main/lab_3.ipynb\" target=\"_parent\"><img src=\"https://colab.research.google.com/assets/colab-badge.svg\" alt=\"Open In Colab\"/></a>"
      ]
    },
    {
      "cell_type": "markdown",
      "source": [
        "120747 Annsonia Njoki Wanjugu"
      ],
      "metadata": {
        "id": "zqE5wSz5yFbF"
      }
    },
    {
      "cell_type": "markdown",
      "source": [
        "Flex input file has 3 sections; Header, definition and the rules which are separated by a line with just %% in it. \n",
        "\n",
        "Example of flex input file \n"
      ],
      "metadata": {
        "id": "h4Fo4gBayIsZ"
      }
    },
    {
      "cell_type": "code",
      "source": [
        "/*Header section*/\n",
        "%{\n",
        "#include <stdio.h>\n",
        "#include <stdlib.h>\n",
        "void mycode ();\n",
        "%}\n",
        "\n",
        "/*Definitions*/\n",
        "letter [A-Za-z]\n",
        "digit  [0-9]\n",
        "%%\n",
        "\n",
        "/*Rules*/\n",
        "({letter})({letter}|{digit})*\t\tprintf(\"Word\\n\");\n",
        "({digit})+\t\t\t{printf (\"Number\\n\"); mycode();}\n",
        "%%\n",
        "\n",
        "/*optional code*/\n",
        "void mycode()\n",
        "{\n",
        "\tprintf(\"lex example\\n\");\n",
        "}"
      ],
      "metadata": {
        "id": "P3cUeog_yNza"
      },
      "execution_count": null,
      "outputs": []
    }
  ]
}