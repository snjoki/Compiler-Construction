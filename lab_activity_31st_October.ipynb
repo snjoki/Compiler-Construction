{
  "nbformat": 4,
  "nbformat_minor": 0,
  "metadata": {
    "colab": {
      "provenance": [],
      "authorship_tag": "ABX9TyN2z1pxHOFxolwLRf9QichE",
      "include_colab_link": true
    },
    "kernelspec": {
      "name": "python3",
      "display_name": "Python 3"
    },
    "language_info": {
      "name": "python"
    }
  },
  "cells": [
    {
      "cell_type": "markdown",
      "metadata": {
        "id": "view-in-github",
        "colab_type": "text"
      },
      "source": [
        "<a href=\"https://colab.research.google.com/github/snjoki/Compiler-Construction/blob/main/lab_activity_31st_October.ipynb\" target=\"_parent\"><img src=\"https://colab.research.google.com/assets/colab-badge.svg\" alt=\"Open In Colab\"/></a>"
      ]
    },
    {
      "cell_type": "markdown",
      "source": [
        "120747\n",
        "Annsonia Njoki Wanjugu"
      ],
      "metadata": {
        "id": "z0Q0pVtUMtaf"
      }
    },
    {
      "cell_type": "markdown",
      "source": [
        "The three-address code is a sequence of statements of the form A−=B op C, where A, B, C are either programmer-defined names, constants, or compiler-generated temporary names, the op represents an operator that can be constant or floatingpoint arithmetic operators or a Boolean valued data or a logical operator. The reason for the name “three address code” is that each statement generally includes three addresses, two for the operands, and one for the result."
      ],
      "metadata": {
        "id": "K4pRt-QjMzUV"
      }
    },
    {
      "cell_type": "markdown",
      "source": [
        "Three address code \n",
        "1.*** if-statment***\n",
        "\n",
        "\n",
        "---\n",
        "\n",
        "\n",
        "\n",
        "---\n",
        "    c = 0\n",
        "\n",
        "    do\n",
        "    {\n",
        "    if (a < b) then\n",
        "    x++;\n",
        "    else\n",
        "    x–;\n",
        "    c++;\n",
        "    }\n",
        "    while (c < 5)\n",
        "\n",
        "**Solution **\n",
        "Three address code for the given code is-\n",
        "\n",
        "    1. c = 0\n",
        "    2. if (a < b) goto (4)\n",
        "    3. goto (7)\n",
        "    4. T1 = x + 1\n",
        "    5. x = T1\n",
        "    6. goto (9)\n",
        "    7. T2 = x – 1\n",
        "    8. x = T2\n",
        "    9. T3 = c + 1\n",
        "    10. c = T3\n",
        "    11. if (c < 5) goto (2)\n",
        "    12. \n",
        "\n",
        "\n"
      ],
      "metadata": {
        "id": "BBvzz-4-M5tk"
      }
    },
    {
      "cell_type": "markdown",
      "source": [
        "Three adress code 2. ***for-loop***\n",
        "\n",
        "\n",
        "---\n",
        "\n",
        "\n",
        "\n",
        "---\n",
        "    fact(x)\n",
        "   \n",
        "    {int f = 1;\n",
        "\n",
        "    for (i = 2; i <= x; i++)\n",
        "    f = f * i;\n",
        "    return f;}\n",
        "\n",
        "\n",
        "**Solution**\n",
        "Three address code is given as; \n",
        "\n",
        "    1. f = 1;\n",
        "    2. i = 2;\n",
        "    3. if (i > x) goto 9\n",
        "    4. t1 = f * i;\n",
        "    5. f = t1;\n",
        "    6. t2 = i + 1;\n",
        "    7. i = t2;\n",
        "    8. goto(3)\n",
        "    9. goto calling program\n"
      ],
      "metadata": {
        "id": "5at_bYFzOZGq"
      }
    },
    {
      "cell_type": "markdown",
      "source": [
        "Three address code 3. ***while-loop***\n",
        "\n",
        "> Indented block\n",
        "\n",
        "\n",
        "\n",
        "\n",
        "---\n",
        "\n",
        "\n",
        "\n",
        "---\n",
        "    while (A < C and B > D) do\n",
        "    if \n",
        "      A = 1 then C = C + 1\n",
        "    else\n",
        "\n",
        "    while A <= D\n",
        "      do A = A + B\n",
        "\n",
        "**Solution **\n",
        "The three address code is given as \n",
        "\n",
        "\n",
        "\n",
        "    1. if (A < C) goto (3)\n",
        "    2. goto (15)\n",
        "    3. if (B > D) goto (5)\n",
        "    4. goto (15)\n",
        "    5. if (A = 1) goto (7)\n",
        "    6. goto (10)\n",
        "    7. T1 = c + 1\n",
        "    8. c = T1\n",
        "    9. goto (1)\n",
        "    10. if (A <= D) goto (12)\n",
        "    11. goto (1)\n",
        "    12. T2 = A + B\n",
        "    13. A = T2\n",
        "    14. goto (10)\n",
        "    15. \n",
        "\n"
      ],
      "metadata": {
        "id": "x3cMU3J0YfHV"
      }
    },
    {
      "cell_type": "markdown",
      "source": [
        "Triple implementation \n",
        "\n",
        " A triple three-address implementation will have three fields namely, op, arg1 and arg2. Unlike quadruples where the result field is used for temporary names, in triples we refer to the result of an operation x op y by its position.\n",
        "\n",
        "---\n",
        "Example \n",
        "Given the statement a = b * -c + b * -c;\n",
        "\n",
        "The triple structure is as follows; \n",
        "\n",
        "![image.png](data:image/png;base64,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)\n",
        "\n"
      ],
      "metadata": {
        "id": "tIDXkGj4rkjy"
      }
    },
    {
      "cell_type": "markdown",
      "source": [
        "References \n",
        "\n",
        "https://www.tutorialspoint.com/what-is-implementation-of-three-address-code-statements\n",
        "\n",
        "https://www.gatevidyalay.com/tag/three-address-code-for-while-loop-example/\n",
        "\n",
        "https://web.stanford.edu/class/archive/cs/cs143/cs143.1128/handouts/240%20TAC%20Examples.pdf\n",
        "\n",
        "https://iq.opengenus.org/three-address-code/\n"
      ],
      "metadata": {
        "id": "nNGNP82ptHi3"
      }
    }
  ]
}