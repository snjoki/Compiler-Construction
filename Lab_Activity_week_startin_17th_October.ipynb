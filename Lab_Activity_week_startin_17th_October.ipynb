{
  "nbformat": 4,
  "nbformat_minor": 0,
  "metadata": {
    "colab": {
      "provenance": [],
      "authorship_tag": "ABX9TyPKF1ZLufpaBYROGzfxqKKt",
      "include_colab_link": true
    },
    "kernelspec": {
      "name": "python3",
      "display_name": "Python 3"
    },
    "language_info": {
      "name": "python"
    }
  },
  "cells": [
    {
      "cell_type": "markdown",
      "metadata": {
        "id": "view-in-github",
        "colab_type": "text"
      },
      "source": [
        "<a href=\"https://colab.research.google.com/github/snjoki/Compiler-Construction/blob/main/Lab_Activity_week_startin_17th_October.ipynb\" target=\"_parent\"><img src=\"https://colab.research.google.com/assets/colab-badge.svg\" alt=\"Open In Colab\"/></a>"
      ]
    },
    {
      "cell_type": "markdown",
      "source": [
        "120747 \n",
        "ICS 4A \n",
        "Annsonia Njoki Wanjugu\n",
        "Lab Assignment "
      ],
      "metadata": {
        "id": "f4CWFfYLdFcj"
      }
    },
    {
      "cell_type": "markdown",
      "source": [
        "Syntax Analysis\n",
        "\n",
        "It is also known as parsing and is the second phase in the compiler design process, after lexical analysis. \n",
        "This phase includes; \n",
        "1. Checking the stream of words and their parts of speech\n",
        "(produced by the scanner) for grammatical correctness. \n",
        "2. Determining if the said input is syntactically well formed \n",
        "3. Static semantics checking\n",
        "4. Building an IR representation of the code "
      ],
      "metadata": {
        "id": "tVgMkXnBdNgo"
      }
    },
    {
      "cell_type": "markdown",
      "source": [
        "Developing syntax analyzers with flex and bison "
      ],
      "metadata": {
        "id": "9rhF2Oc7r-oG"
      }
    },
    {
      "cell_type": "code",
      "source": [
        "/* recognize tokens for the calculator and print them out */\n",
        "%%\n",
        "\"+\"    { printf(\"PLUS\\n\"); }\n",
        "\"-\"    { printf(\"MINUS\\n\"); }\n",
        "\"*\"    { printf(\"TIMES\\n\"); }\n",
        "\"/\"    { printf(\"DIVIDE\\n\"); }\n",
        "\"|\"    { printf(\"ABS\\n\"); }\n",
        "[0-9]+ { printf(\"NUMBER %s\\n\", yytext); }\n",
        "\\n     { printf(\"NEWLINE\\n\"); }\n",
        "[ \\t]  { }\n",
        ".      { printf(\"Mystery character %s\\n\", yytext); }\n",
        "%%"
      ],
      "metadata": {
        "id": "A9F5ZBWgrw0x"
      },
      "execution_count": null,
      "outputs": []
    },
    {
      "cell_type": "markdown",
      "source": [
        "The first five patterns are literal operators, written as quoted strings, and the actions, for now, just print a message saying what matched. The quotes tell flex to use the strings as is, rather than interpreting them as regular expressions.\n",
        "\n",
        "The sixth pattern matches an integer. The bracketed pattern [0-9]matches any single digit, and the following + sign means to match one or more of the preceding item, which here means a string of one or more digits. The action prints out the string that’s matched, using the pointer yytext that the scanner sets after each match.\n",
        "\n",
        "The seventh pattern matches a newline character, represented by the usual C \\n sequence.\n",
        "\n",
        "The eighth pattern ignores whitespace. It matches any single space or tab (\\t), and the empty action code does nothing.\n",
        "\n",
        "The final pattern is the catchall to match anything the other patterns didn’t. Its action code prints a suitable complaint.\n",
        "\n"
      ],
      "metadata": {
        "id": "znz4ok0_vP8W"
      }
    },
    {
      "cell_type": "code",
      "source": [
        "$ flex fb1-3.l\n",
        "$ cc lex.yy.c -lfl\n",
        "$ ./a.out\n",
        "12+34\n",
        "NUMBER 12\n",
        "PLUS\n",
        "NUMBER 34\n",
        "NEWLINE\n",
        " 5 6 / 7q\n",
        "NUMBER 5\n",
        "NUMBER 6\n",
        "DIVIDE\n",
        "NUMBER 7\n",
        "Mystery character q\n",
        "NEWLINE\n",
        "^D\n",
        "$"
      ],
      "metadata": {
        "id": "cRb4-0MyvRKa"
      },
      "execution_count": null,
      "outputs": []
    },
    {
      "cell_type": "markdown",
      "source": [
        "First we run flex, which translates the scanner into a C program called lex.yy.c, then we compile the C program, and finally we run it. The output shows that it recognizes numbers as numbers, it recognizes operators as operators, and the q in the last line of input is caught by the catchall pattern at the end"
      ],
      "metadata": {
        "id": "3JA8WSf1vWR3"
      }
    },
    {
      "cell_type": "markdown",
      "source": [
        "References\n",
        "1. https://www.oreilly.com/library/view/flex-bison/9780596805418/ch01.html\n",
        "2. https://developer.ibm.com/tutorials/au-lexyacc/\n",
        "3. https://www.cs.mtsu.edu/~zdong/3210/OldSlides/SyntaxAnalyzerIntroduction.pdf"
      ],
      "metadata": {
        "id": "CyhYKsCHvnEi"
      }
    }
  ]
}